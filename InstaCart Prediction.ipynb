{
 "cells": [
  {
   "cell_type": "markdown",
   "metadata": {},
   "source": [
    "# InstaCart－Predict Trip Duration\n",
    "#### by RN, 2016.07.07"
   ]
  },
  {
   "cell_type": "code",
   "execution_count": 2,
   "metadata": {
    "collapsed": true
   },
   "outputs": [],
   "source": [
    "import numpy as np\n",
    "import pandas as pd\n",
    "% matplotlib inline"
   ]
  },
  {
   "cell_type": "markdown",
   "metadata": {},
   "source": [
    "###  Load csv datasets"
   ]
  },
  {
   "cell_type": "code",
   "execution_count": 3,
   "metadata": {
    "collapsed": false
   },
   "outputs": [
    {
     "data": {
      "text/html": [
       "<div>\n",
       "<table border=\"1\" class=\"dataframe\">\n",
       "  <thead>\n",
       "    <tr style=\"text-align: right;\">\n",
       "      <th></th>\n",
       "      <th>trip_id</th>\n",
       "      <th>store_id</th>\n",
       "      <th>shopper_id</th>\n",
       "      <th>shopping_started_at</th>\n",
       "      <th>shopping_ended_at</th>\n",
       "    </tr>\n",
       "  </thead>\n",
       "  <tbody>\n",
       "    <tr>\n",
       "      <th>0</th>\n",
       "      <td>74387</td>\n",
       "      <td>1</td>\n",
       "      <td>760</td>\n",
       "      <td>2013-12-31 16:00:58-08:00</td>\n",
       "      <td>2013-12-31 16:48:58-08:00</td>\n",
       "    </tr>\n",
       "    <tr>\n",
       "      <th>1</th>\n",
       "      <td>74381</td>\n",
       "      <td>3</td>\n",
       "      <td>382</td>\n",
       "      <td>2013-12-31 16:02:00-08:00</td>\n",
       "      <td>2013-12-31 16:49:00-08:00</td>\n",
       "    </tr>\n",
       "    <tr>\n",
       "      <th>2</th>\n",
       "      <td>74382</td>\n",
       "      <td>6</td>\n",
       "      <td>493</td>\n",
       "      <td>2013-12-31 16:02:26-08:00</td>\n",
       "      <td>2013-12-31 16:25:26-08:00</td>\n",
       "    </tr>\n",
       "  </tbody>\n",
       "</table>\n",
       "</div>"
      ],
      "text/plain": [
       "   trip_id  store_id  shopper_id        shopping_started_at  \\\n",
       "0    74387         1         760  2013-12-31 16:00:58-08:00   \n",
       "1    74381         3         382  2013-12-31 16:02:00-08:00   \n",
       "2    74382         6         493  2013-12-31 16:02:26-08:00   \n",
       "\n",
       "           shopping_ended_at  \n",
       "0  2013-12-31 16:48:58-08:00  \n",
       "1  2013-12-31 16:49:00-08:00  \n",
       "2  2013-12-31 16:25:26-08:00  "
      ]
     },
     "execution_count": 3,
     "metadata": {},
     "output_type": "execute_result"
    }
   ],
   "source": [
    "train = pd.read_csv(\"train_trips.csv\")\n",
    "train.head(3)"
   ]
  },
  {
   "cell_type": "code",
   "execution_count": 4,
   "metadata": {
    "collapsed": false
   },
   "outputs": [
    {
     "data": {
      "text/html": [
       "<div>\n",
       "<table border=\"1\" class=\"dataframe\">\n",
       "  <thead>\n",
       "    <tr style=\"text-align: right;\">\n",
       "      <th></th>\n",
       "      <th>trip_id</th>\n",
       "      <th>store_id</th>\n",
       "      <th>shopper_id</th>\n",
       "      <th>shopping_started_at</th>\n",
       "    </tr>\n",
       "  </thead>\n",
       "  <tbody>\n",
       "    <tr>\n",
       "      <th>0</th>\n",
       "      <td>131131</td>\n",
       "      <td>1</td>\n",
       "      <td>1056</td>\n",
       "      <td>2014-03-17 13:57:59-07:00</td>\n",
       "    </tr>\n",
       "    <tr>\n",
       "      <th>1</th>\n",
       "      <td>131154</td>\n",
       "      <td>3</td>\n",
       "      <td>1090</td>\n",
       "      <td>2014-03-17 14:02:06-07:00</td>\n",
       "    </tr>\n",
       "    <tr>\n",
       "      <th>2</th>\n",
       "      <td>131148</td>\n",
       "      <td>1</td>\n",
       "      <td>1138</td>\n",
       "      <td>2014-03-17 14:03:09-07:00</td>\n",
       "    </tr>\n",
       "  </tbody>\n",
       "</table>\n",
       "</div>"
      ],
      "text/plain": [
       "   trip_id  store_id  shopper_id        shopping_started_at\n",
       "0   131131         1        1056  2014-03-17 13:57:59-07:00\n",
       "1   131154         3        1090  2014-03-17 14:02:06-07:00\n",
       "2   131148         1        1138  2014-03-17 14:03:09-07:00"
      ]
     },
     "execution_count": 4,
     "metadata": {},
     "output_type": "execute_result"
    }
   ],
   "source": [
    "test = pd.read_csv(\"test_trips.csv\")\n",
    "test.head(3)"
   ]
  },
  {
   "cell_type": "code",
   "execution_count": 5,
   "metadata": {
    "collapsed": false
   },
   "outputs": [
    {
     "data": {
      "text/html": [
       "<div>\n",
       "<table border=\"1\" class=\"dataframe\">\n",
       "  <thead>\n",
       "    <tr style=\"text-align: right;\">\n",
       "      <th></th>\n",
       "      <th>shopper_id</th>\n",
       "      <th>shopper_hired_date</th>\n",
       "      <th>shopper_birth_year</th>\n",
       "    </tr>\n",
       "  </thead>\n",
       "  <tbody>\n",
       "    <tr>\n",
       "      <th>0</th>\n",
       "      <td>884</td>\n",
       "      <td>2014-01-22 14:06:24-08:00</td>\n",
       "      <td>1983</td>\n",
       "    </tr>\n",
       "    <tr>\n",
       "      <th>1</th>\n",
       "      <td>476</td>\n",
       "      <td>2013-09-24 20:12:53-07:00</td>\n",
       "      <td>1990</td>\n",
       "    </tr>\n",
       "    <tr>\n",
       "      <th>2</th>\n",
       "      <td>1056</td>\n",
       "      <td>2014-02-10 13:54:38-08:00</td>\n",
       "      <td>1988</td>\n",
       "    </tr>\n",
       "  </tbody>\n",
       "</table>\n",
       "</div>"
      ],
      "text/plain": [
       "   shopper_id         shopper_hired_date  shopper_birth_year\n",
       "0         884  2014-01-22 14:06:24-08:00                1983\n",
       "1         476  2013-09-24 20:12:53-07:00                1990\n",
       "2        1056  2014-02-10 13:54:38-08:00                1988"
      ]
     },
     "execution_count": 5,
     "metadata": {},
     "output_type": "execute_result"
    }
   ],
   "source": [
    "shoppers = pd.read_csv(\"shoppers.csv\")\n",
    "shoppers.head(3)"
   ]
  },
  {
   "cell_type": "code",
   "execution_count": 6,
   "metadata": {
    "collapsed": false
   },
   "outputs": [
    {
     "data": {
      "text/html": [
       "<div>\n",
       "<table border=\"1\" class=\"dataframe\">\n",
       "  <thead>\n",
       "    <tr style=\"text-align: right;\">\n",
       "      <th></th>\n",
       "      <th>trip_id</th>\n",
       "      <th>item_id</th>\n",
       "      <th>item_department</th>\n",
       "      <th>item_needs_weighed</th>\n",
       "    </tr>\n",
       "  </thead>\n",
       "  <tbody>\n",
       "    <tr>\n",
       "      <th>0</th>\n",
       "      <td>74363</td>\n",
       "      <td>73671</td>\n",
       "      <td>Beverages</td>\n",
       "      <td>1</td>\n",
       "    </tr>\n",
       "    <tr>\n",
       "      <th>1</th>\n",
       "      <td>74363</td>\n",
       "      <td>74185</td>\n",
       "      <td>Pantry</td>\n",
       "      <td>1</td>\n",
       "    </tr>\n",
       "    <tr>\n",
       "      <th>2</th>\n",
       "      <td>74363</td>\n",
       "      <td>77267</td>\n",
       "      <td>Snacks</td>\n",
       "      <td>1</td>\n",
       "    </tr>\n",
       "  </tbody>\n",
       "</table>\n",
       "</div>"
      ],
      "text/plain": [
       "   trip_id  item_id item_department  item_needs_weighed\n",
       "0    74363    73671       Beverages                   1\n",
       "1    74363    74185          Pantry                   1\n",
       "2    74363    77267          Snacks                   1"
      ]
     },
     "execution_count": 6,
     "metadata": {},
     "output_type": "execute_result"
    }
   ],
   "source": [
    "trip = pd.read_csv(\"trip_items.csv\")\n",
    "trip.head(3)"
   ]
  },
  {
   "cell_type": "markdown",
   "metadata": {},
   "source": [
    "### Integrate multiple datasources\n",
    "* train, shoppers, trip\n",
    "* test, shoppers, trip"
   ]
  },
  {
   "cell_type": "code",
   "execution_count": 7,
   "metadata": {
    "collapsed": false
   },
   "outputs": [
    {
     "name": "stdout",
     "output_type": "stream",
     "text": [
      "23000\n",
      "5\n",
      "23000\n",
      "7\n",
      "5460\n",
      "4\n",
      "5460\n",
      "6\n"
     ]
    }
   ],
   "source": [
    "traindf = train.merge(shoppers, on = 'shopper_id')\n",
    "#trainmerge = traindf.merge(trip, on = 'trip_id')\n",
    "\n",
    "testdf = test.merge(shoppers, on = 'shopper_id')\n",
    "#testmerge = testdf.merge(trip, on = 'trip_id')\n",
    "\n",
    "print len(train)\n",
    "print len(train.columns)\n",
    "print len(traindf)\n",
    "print len(traindf.columns)\n",
    "#print len(trainmerge)\n",
    "\n",
    "print len(test)\n",
    "print len(test.columns)\n",
    "print len(testdf)\n",
    "print len(testdf.columns)\n",
    "#print len(testmerge)"
   ]
  },
  {
   "cell_type": "code",
   "execution_count": 8,
   "metadata": {
    "collapsed": false,
    "scrolled": true
   },
   "outputs": [
    {
     "name": "stdout",
     "output_type": "stream",
     "text": [
      "Fraction nulls =  0.0\n"
     ]
    }
   ],
   "source": [
    "# check number of na values in each variables\n",
    "x = traindf.isnull().sum(axis = 1).tolist()\n",
    "y = float(sum(x))/(traindf.shape[0]*traindf.shape[1])\n",
    "\n",
    "print 'Fraction nulls = ', y"
   ]
  },
  {
   "cell_type": "code",
   "execution_count": 9,
   "metadata": {
    "collapsed": false
   },
   "outputs": [
    {
     "name": "stdout",
     "output_type": "stream",
     "text": [
      "Fraction nulls =  0.0\n"
     ]
    }
   ],
   "source": [
    "x = testdf.isnull().sum(axis = 1).tolist()\n",
    "y = float(sum(x))/(testdf.shape[0]*traindf.shape[1])\n",
    "print 'Fraction nulls = ', y"
   ]
  },
  {
   "cell_type": "code",
   "execution_count": 10,
   "metadata": {
    "collapsed": false
   },
   "outputs": [
    {
     "name": "stdout",
     "output_type": "stream",
     "text": [
      "Index([u'trip_id', u'store_id', u'shopper_id', u'shopping_started_at',\n",
      "       u'shopping_ended_at', u'shopper_hired_date', u'shopper_birth_year'],\n",
      "      dtype='object')\n",
      "Index([u'trip_id', u'store_id', u'shopper_id', u'shopping_started_at',\n",
      "       u'shopper_hired_date', u'shopper_birth_year'],\n",
      "      dtype='object')\n"
     ]
    }
   ],
   "source": [
    "print (traindf.columns)\n",
    "print (testdf.columns)"
   ]
  },
  {
   "cell_type": "code",
   "execution_count": 11,
   "metadata": {
    "collapsed": false
   },
   "outputs": [
    {
     "name": "stdout",
     "output_type": "stream",
     "text": [
      "Train shopper_id 282\n",
      "Test shopper_id 195\n",
      "Shopper id 303\n"
     ]
    }
   ],
   "source": [
    "print 'Train shopper_id', len(pd.unique(traindf['shopper_id']))\n",
    "print 'Test shopper_id', len(pd.unique(testdf['shopper_id']))\n",
    "print 'Shopper id', len(pd.unique(shoppers['shopper_id']))"
   ]
  },
  {
   "cell_type": "code",
   "execution_count": 12,
   "metadata": {
    "collapsed": false
   },
   "outputs": [
    {
     "name": "stdout",
     "output_type": "stream",
     "text": [
      "Train trip_id 23000\n",
      "Test trip_id 5460\n",
      "Trip id 28467\n"
     ]
    }
   ],
   "source": [
    "print 'Train trip_id', len(pd.unique(traindf['trip_id']))\n",
    "print 'Test trip_id', len(pd.unique(testdf['trip_id']))\n",
    "print 'Trip id', len(pd.unique(trip['trip_id']))"
   ]
  },
  {
   "cell_type": "markdown",
   "metadata": {},
   "source": [
    "## Decompose and Aggregate Features"
   ]
  },
  {
   "cell_type": "code",
   "execution_count": 13,
   "metadata": {
    "collapsed": false,
    "scrolled": true
   },
   "outputs": [
    {
     "data": {
      "text/plain": [
       "trip_id                                    74387\n",
       "store_id                                       1\n",
       "shopper_id                                   760\n",
       "shopping_started_at    2013-12-31 16:00:58-08:00\n",
       "shopping_ended_at      2013-12-31 16:48:58-08:00\n",
       "shopper_hired_date     2013-12-19 11:25:11-08:00\n",
       "shopper_birth_year                          1987\n",
       "Name: 0, dtype: object"
      ]
     },
     "execution_count": 13,
     "metadata": {},
     "output_type": "execute_result"
    }
   ],
   "source": [
    "traindf.iloc[0]"
   ]
  },
  {
   "cell_type": "code",
   "execution_count": 14,
   "metadata": {
    "collapsed": false
   },
   "outputs": [],
   "source": [
    "# get shoppers experience year and age\n",
    "# (1) shopping duration\n",
    "from datetime import datetime\n",
    "traindf['shopping_ended_at'] = traindf['shopping_ended_at'].map(lambda x: x[0:19])\n",
    "traindf['shopping_started_at'] = traindf['shopping_started_at'].map(lambda x:x[0:19])\n",
    "traindf['shopper_hired_date'] = traindf['shopper_hired_date'].map(lambda x:x[0:19])\n",
    "traindf['end_time'] = pd.to_datetime(traindf['shopping_ended_at']) # convert traindf['shopping_ended_at'] from string to datatime\n",
    "traindf['start_time'] = pd.to_datetime(traindf['shopping_started_at'])\n",
    "traindf['hire_date'] = pd.to_datetime(traindf['shopper_hired_date'])\n",
    "traindf['dur'] = traindf['end_time'] - traindf['start_time']\n",
    "traindf['exp'] = traindf['start_time'] - traindf['hire_date']\n",
    "traindf['minutes'] = traindf.dur.apply(lambda x: round(pd.Timedelta(x).total_seconds()//60)) \n",
    "traindf['seconds'] = traindf.dur.apply(lambda x: round(pd.Timedelta(x).total_seconds())) \n",
    "\n",
    "# (2) shopper age and experience\n",
    "traindf['age'] = traindf.hire_date.apply(lambda x: x.year) - traindf.shopper_birth_year\n",
    "traindf['exp'] = traindf.exp.apply(lambda x: round(pd.Timedelta(x).total_seconds()//(3600*24))) # experience in months"
   ]
  },
  {
   "cell_type": "code",
   "execution_count": 15,
   "metadata": {
    "collapsed": false
   },
   "outputs": [],
   "source": [
    "# get shopping is weekday, holiday,traffic hour\n",
    "traindf['weekday'] = traindf.start_time.apply(lambda x: x.weekday())\n",
    "traindf['start_hour'] = traindf.start_time.apply(lambda x: x.hour)\n",
    "traindf['rush_hour'] = traindf.start_hour.apply(lambda x:(x >= 6 & x <= 9) & (x >= 16 & x <= 20))# experience in months\n",
    "traindf['rush_hour'] = traindf.rush_hour.astype(int)"
   ]
  },
  {
   "cell_type": "code",
   "execution_count": 16,
   "metadata": {
    "collapsed": false
   },
   "outputs": [
    {
     "data": {
      "text/html": [
       "<div>\n",
       "<table border=\"1\" class=\"dataframe\">\n",
       "  <thead>\n",
       "    <tr style=\"text-align: right;\">\n",
       "      <th></th>\n",
       "      <th>trip_id</th>\n",
       "      <th>store_id</th>\n",
       "      <th>shopper_id</th>\n",
       "      <th>shopping_started_at</th>\n",
       "      <th>shopping_ended_at</th>\n",
       "      <th>shopper_hired_date</th>\n",
       "      <th>shopper_birth_year</th>\n",
       "      <th>end_time</th>\n",
       "      <th>start_time</th>\n",
       "      <th>hire_date</th>\n",
       "      <th>dur</th>\n",
       "      <th>exp</th>\n",
       "      <th>minutes</th>\n",
       "      <th>seconds</th>\n",
       "      <th>age</th>\n",
       "      <th>weekday</th>\n",
       "      <th>start_hour</th>\n",
       "      <th>rush_hour</th>\n",
       "    </tr>\n",
       "  </thead>\n",
       "  <tbody>\n",
       "    <tr>\n",
       "      <th>0</th>\n",
       "      <td>74387</td>\n",
       "      <td>1</td>\n",
       "      <td>760</td>\n",
       "      <td>2013-12-31 16:00:58</td>\n",
       "      <td>2013-12-31 16:48:58</td>\n",
       "      <td>2013-12-19 11:25:11</td>\n",
       "      <td>1987</td>\n",
       "      <td>2013-12-31 16:48:58</td>\n",
       "      <td>2013-12-31 16:00:58</td>\n",
       "      <td>2013-12-19 11:25:11</td>\n",
       "      <td>00:48:00</td>\n",
       "      <td>12</td>\n",
       "      <td>48</td>\n",
       "      <td>2880</td>\n",
       "      <td>26</td>\n",
       "      <td>1</td>\n",
       "      <td>16</td>\n",
       "      <td>1</td>\n",
       "    </tr>\n",
       "    <tr>\n",
       "      <th>1</th>\n",
       "      <td>74410</td>\n",
       "      <td>1</td>\n",
       "      <td>760</td>\n",
       "      <td>2013-12-31 16:56:58</td>\n",
       "      <td>2013-12-31 17:49:58</td>\n",
       "      <td>2013-12-19 11:25:11</td>\n",
       "      <td>1987</td>\n",
       "      <td>2013-12-31 17:49:58</td>\n",
       "      <td>2013-12-31 16:56:58</td>\n",
       "      <td>2013-12-19 11:25:11</td>\n",
       "      <td>00:53:00</td>\n",
       "      <td>12</td>\n",
       "      <td>53</td>\n",
       "      <td>3180</td>\n",
       "      <td>26</td>\n",
       "      <td>1</td>\n",
       "      <td>16</td>\n",
       "      <td>1</td>\n",
       "    </tr>\n",
       "    <tr>\n",
       "      <th>2</th>\n",
       "      <td>74659</td>\n",
       "      <td>3</td>\n",
       "      <td>760</td>\n",
       "      <td>2014-01-01 18:05:50</td>\n",
       "      <td>2014-01-01 18:55:50</td>\n",
       "      <td>2013-12-19 11:25:11</td>\n",
       "      <td>1987</td>\n",
       "      <td>2014-01-01 18:55:50</td>\n",
       "      <td>2014-01-01 18:05:50</td>\n",
       "      <td>2013-12-19 11:25:11</td>\n",
       "      <td>00:50:00</td>\n",
       "      <td>13</td>\n",
       "      <td>50</td>\n",
       "      <td>3000</td>\n",
       "      <td>26</td>\n",
       "      <td>2</td>\n",
       "      <td>18</td>\n",
       "      <td>1</td>\n",
       "    </tr>\n",
       "  </tbody>\n",
       "</table>\n",
       "</div>"
      ],
      "text/plain": [
       "   trip_id  store_id  shopper_id  shopping_started_at    shopping_ended_at  \\\n",
       "0    74387         1         760  2013-12-31 16:00:58  2013-12-31 16:48:58   \n",
       "1    74410         1         760  2013-12-31 16:56:58  2013-12-31 17:49:58   \n",
       "2    74659         3         760  2014-01-01 18:05:50  2014-01-01 18:55:50   \n",
       "\n",
       "    shopper_hired_date  shopper_birth_year            end_time  \\\n",
       "0  2013-12-19 11:25:11                1987 2013-12-31 16:48:58   \n",
       "1  2013-12-19 11:25:11                1987 2013-12-31 17:49:58   \n",
       "2  2013-12-19 11:25:11                1987 2014-01-01 18:55:50   \n",
       "\n",
       "           start_time           hire_date      dur  exp  minutes  seconds  \\\n",
       "0 2013-12-31 16:00:58 2013-12-19 11:25:11 00:48:00   12       48     2880   \n",
       "1 2013-12-31 16:56:58 2013-12-19 11:25:11 00:53:00   12       53     3180   \n",
       "2 2014-01-01 18:05:50 2013-12-19 11:25:11 00:50:00   13       50     3000   \n",
       "\n",
       "   age  weekday  start_hour  rush_hour  \n",
       "0   26        1          16          1  \n",
       "1   26        1          16          1  \n",
       "2   26        2          18          1  "
      ]
     },
     "execution_count": 16,
     "metadata": {},
     "output_type": "execute_result"
    }
   ],
   "source": [
    "traindf.head(3)"
   ]
  },
  {
   "cell_type": "code",
   "execution_count": 17,
   "metadata": {
    "collapsed": false
   },
   "outputs": [
    {
     "data": {
      "text/plain": [
       "array([1099], dtype=int64)"
      ]
     },
     "execution_count": 17,
     "metadata": {},
     "output_type": "execute_result"
    }
   ],
   "source": [
    "# error in the dataset\n",
    "# one shopper started to work even before he/she was hired\n",
    "pd.unique(traindf[traindf['exp']<0]['shopper_id'])"
   ]
  },
  {
   "cell_type": "code",
   "execution_count": 18,
   "metadata": {
    "collapsed": false
   },
   "outputs": [
    {
     "data": {
      "image/png": "[encoded data removed]",
      "text/plain": [
       "<matplotlib.figure.Figure at 0x906a470>"
      ]
     },
     "metadata": {},
     "output_type": "display_data"
    },
    {
     "data": {
      "image/png": "[encoded data removed]",
      "text/plain": [
       "<matplotlib.figure.Figure at 0x9da7208>"
      ]
     },
     "metadata": {},
     "output_type": "display_data"
    },
    {
     "data": {
      "image/png": "[encoded data removed]",
      "text/plain": [
       "<matplotlib.figure.Figure at 0xa20db38>"
      ]
     },
     "metadata": {},
     "output_type": "display_data"
    },
    {
     "data": {
      "image/png": "[encoded data removed]",
      "text/plain": [
       "<matplotlib.figure.Figure at 0xa570e80>"
      ]
     },
     "metadata": {},
     "output_type": "display_data"
    },
    {
     "data": {
      "image/png": "[encoded data removed]",
      "text/plain": [
       "<matplotlib.figure.Figure at 0xa448160>"
      ]
     },
     "metadata": {},
     "output_type": "display_data"
    },
    {
     "data": {
      "image/png": "[encoded data removed]",
      "text/plain": [
       "<matplotlib.figure.Figure at 0xc957d30>"
      ]
     },
     "metadata": {},
     "output_type": "display_data"
    }
   ],
   "source": [
    "import matplotlib.pyplot as plt\n",
    "\n",
    "plt.hist(traindf['minutes'])\n",
    "plt.title('Shopping duration')\n",
    "plt.xlabel('Duration in minutes')\n",
    "plt.ylabel('Frequency')\n",
    "plt.show()\n",
    "\n",
    "\n",
    "plt.hist(traindf['age'])\n",
    "plt.title('Shopper Ages')\n",
    "plt.xlabel('Ages in years')\n",
    "plt.ylabel('Frequency')\n",
    "plt.show()\n",
    "\n",
    "plt.hist(traindf['exp'])\n",
    "plt.title('Shopper Experience')\n",
    "plt.xlabel('Experience in minutes')\n",
    "plt.ylabel('Frequency')\n",
    "plt.show()\n",
    "\n",
    "plt.hist(traindf['start_hour'])\n",
    "plt.title('Shopper start hour')\n",
    "plt.xlabel('Start hour')\n",
    "plt.ylabel('Frequency')\n",
    "plt.show()\n",
    "\n",
    "plt.plot(traindf[traindf['minutes']>0]['age'],traindf[traindf['minutes']>0]['minutes'],'.')\n",
    "plt.xlabel('Ages in years')\n",
    "plt.ylabel('Shopping duration in minutes')\n",
    "plt.show()\n",
    "\n",
    "plt.plot(traindf[traindf['minutes']>0]['exp'],traindf[traindf['minutes']>0]['minutes'],'.')\n",
    "plt.xlabel('Ages in years')\n",
    "plt.ylabel('Shopping duration in minutes')\n",
    "plt.show()"
   ]
  },
  {
   "cell_type": "code",
   "execution_count": 19,
   "metadata": {
    "collapsed": false
   },
   "outputs": [
    {
     "data": {
      "text/plain": [
       "942"
      ]
     },
     "execution_count": 19,
     "metadata": {},
     "output_type": "execute_result"
    }
   ],
   "source": [
    "len(traindf[traindf['seconds']==0])\n",
    "# some shopping duration is 0, which should be invalid"
   ]
  },
  {
   "cell_type": "code",
   "execution_count": 20,
   "metadata": {
    "collapsed": false
   },
   "outputs": [
    {
     "data": {
      "text/html": [
       "<div>\n",
       "<table border=\"1\" class=\"dataframe\">\n",
       "  <thead>\n",
       "    <tr style=\"text-align: right;\">\n",
       "      <th></th>\n",
       "      <th>trip_id</th>\n",
       "      <th>store_id</th>\n",
       "      <th>shopper_id</th>\n",
       "      <th>shopping_started_at</th>\n",
       "      <th>shopping_ended_at</th>\n",
       "      <th>shopper_hired_date</th>\n",
       "      <th>shopper_birth_year</th>\n",
       "      <th>end_time</th>\n",
       "      <th>start_time</th>\n",
       "      <th>hire_date</th>\n",
       "      <th>dur</th>\n",
       "      <th>exp</th>\n",
       "      <th>minutes</th>\n",
       "      <th>seconds</th>\n",
       "      <th>age</th>\n",
       "      <th>weekday</th>\n",
       "      <th>start_hour</th>\n",
       "      <th>rush_hour</th>\n",
       "    </tr>\n",
       "  </thead>\n",
       "  <tbody>\n",
       "    <tr>\n",
       "      <th>0</th>\n",
       "      <td>74387</td>\n",
       "      <td>1</td>\n",
       "      <td>760</td>\n",
       "      <td>2013-12-31 16:00:58</td>\n",
       "      <td>2013-12-31 16:48:58</td>\n",
       "      <td>2013-12-19 11:25:11</td>\n",
       "      <td>1987</td>\n",
       "      <td>2013-12-31 16:48:58</td>\n",
       "      <td>2013-12-31 16:00:58</td>\n",
       "      <td>2013-12-19 11:25:11</td>\n",
       "      <td>00:48:00</td>\n",
       "      <td>12</td>\n",
       "      <td>48</td>\n",
       "      <td>2880</td>\n",
       "      <td>26</td>\n",
       "      <td>1</td>\n",
       "      <td>16</td>\n",
       "      <td>1</td>\n",
       "    </tr>\n",
       "    <tr>\n",
       "      <th>1</th>\n",
       "      <td>74410</td>\n",
       "      <td>1</td>\n",
       "      <td>760</td>\n",
       "      <td>2013-12-31 16:56:58</td>\n",
       "      <td>2013-12-31 17:49:58</td>\n",
       "      <td>2013-12-19 11:25:11</td>\n",
       "      <td>1987</td>\n",
       "      <td>2013-12-31 17:49:58</td>\n",
       "      <td>2013-12-31 16:56:58</td>\n",
       "      <td>2013-12-19 11:25:11</td>\n",
       "      <td>00:53:00</td>\n",
       "      <td>12</td>\n",
       "      <td>53</td>\n",
       "      <td>3180</td>\n",
       "      <td>26</td>\n",
       "      <td>1</td>\n",
       "      <td>16</td>\n",
       "      <td>1</td>\n",
       "    </tr>\n",
       "    <tr>\n",
       "      <th>2</th>\n",
       "      <td>74659</td>\n",
       "      <td>3</td>\n",
       "      <td>760</td>\n",
       "      <td>2014-01-01 18:05:50</td>\n",
       "      <td>2014-01-01 18:55:50</td>\n",
       "      <td>2013-12-19 11:25:11</td>\n",
       "      <td>1987</td>\n",
       "      <td>2014-01-01 18:55:50</td>\n",
       "      <td>2014-01-01 18:05:50</td>\n",
       "      <td>2013-12-19 11:25:11</td>\n",
       "      <td>00:50:00</td>\n",
       "      <td>13</td>\n",
       "      <td>50</td>\n",
       "      <td>3000</td>\n",
       "      <td>26</td>\n",
       "      <td>2</td>\n",
       "      <td>18</td>\n",
       "      <td>1</td>\n",
       "    </tr>\n",
       "  </tbody>\n",
       "</table>\n",
       "</div>"
      ],
      "text/plain": [
       "   trip_id  store_id  shopper_id  shopping_started_at    shopping_ended_at  \\\n",
       "0    74387         1         760  2013-12-31 16:00:58  2013-12-31 16:48:58   \n",
       "1    74410         1         760  2013-12-31 16:56:58  2013-12-31 17:49:58   \n",
       "2    74659         3         760  2014-01-01 18:05:50  2014-01-01 18:55:50   \n",
       "\n",
       "    shopper_hired_date  shopper_birth_year            end_time  \\\n",
       "0  2013-12-19 11:25:11                1987 2013-12-31 16:48:58   \n",
       "1  2013-12-19 11:25:11                1987 2013-12-31 17:49:58   \n",
       "2  2013-12-19 11:25:11                1987 2014-01-01 18:55:50   \n",
       "\n",
       "           start_time           hire_date      dur  exp  minutes  seconds  \\\n",
       "0 2013-12-31 16:00:58 2013-12-19 11:25:11 00:48:00   12       48     2880   \n",
       "1 2013-12-31 16:56:58 2013-12-19 11:25:11 00:53:00   12       53     3180   \n",
       "2 2014-01-01 18:05:50 2013-12-19 11:25:11 00:50:00   13       50     3000   \n",
       "\n",
       "   age  weekday  start_hour  rush_hour  \n",
       "0   26        1          16          1  \n",
       "1   26        1          16          1  \n",
       "2   26        2          18          1  "
      ]
     },
     "execution_count": 20,
     "metadata": {},
     "output_type": "execute_result"
    }
   ],
   "source": [
    "traindf.head(3)"
   ]
  },
  {
   "cell_type": "markdown",
   "metadata": {},
   "source": [
    "### One-hot encoding"
   ]
  },
  {
   "cell_type": "code",
   "execution_count": 21,
   "metadata": {
    "collapsed": false
   },
   "outputs": [
    {
     "data": {
      "text/html": [
       "<div>\n",
       "<table border=\"1\" class=\"dataframe\">\n",
       "  <thead>\n",
       "    <tr style=\"text-align: right;\">\n",
       "      <th></th>\n",
       "      <th>shopper_id</th>\n",
       "      <th>exp</th>\n",
       "      <th>minutes</th>\n",
       "      <th>seconds</th>\n",
       "      <th>age</th>\n",
       "      <th>weekday</th>\n",
       "      <th>start_hour</th>\n",
       "      <th>rush_hour</th>\n",
       "    </tr>\n",
       "  </thead>\n",
       "  <tbody>\n",
       "    <tr>\n",
       "      <th>0</th>\n",
       "      <td>760</td>\n",
       "      <td>12</td>\n",
       "      <td>48</td>\n",
       "      <td>2880</td>\n",
       "      <td>26</td>\n",
       "      <td>1</td>\n",
       "      <td>16</td>\n",
       "      <td>1</td>\n",
       "    </tr>\n",
       "    <tr>\n",
       "      <th>1</th>\n",
       "      <td>760</td>\n",
       "      <td>12</td>\n",
       "      <td>53</td>\n",
       "      <td>3180</td>\n",
       "      <td>26</td>\n",
       "      <td>1</td>\n",
       "      <td>16</td>\n",
       "      <td>1</td>\n",
       "    </tr>\n",
       "    <tr>\n",
       "      <th>2</th>\n",
       "      <td>760</td>\n",
       "      <td>13</td>\n",
       "      <td>50</td>\n",
       "      <td>3000</td>\n",
       "      <td>26</td>\n",
       "      <td>2</td>\n",
       "      <td>18</td>\n",
       "      <td>1</td>\n",
       "    </tr>\n",
       "  </tbody>\n",
       "</table>\n",
       "</div>"
      ],
      "text/plain": [
       "   shopper_id  exp  minutes  seconds  age  weekday  start_hour  rush_hour\n",
       "0         760   12       48     2880   26        1          16          1\n",
       "1         760   12       53     3180   26        1          16          1\n",
       "2         760   13       50     3000   26        2          18          1"
      ]
     },
     "execution_count": 21,
     "metadata": {},
     "output_type": "execute_result"
    }
   ],
   "source": [
    "# get train dataframe\n",
    "traindf_use = traindf\n",
    "traindf_use.drop(['trip_id','store_id', 'shopping_started_at','shopping_ended_at','shopper_hired_date',\n",
    "                  'shopper_birth_year','end_time','start_time', 'hire_date','dur'], axis = 1, inplace = True)\n",
    "traindf_use.head(3)"
   ]
  },
  {
   "cell_type": "code",
   "execution_count": 22,
   "metadata": {
    "collapsed": false
   },
   "outputs": [
    {
     "data": {
      "text/html": [
       "<div>\n",
       "<table border=\"1\" class=\"dataframe\">\n",
       "  <thead>\n",
       "    <tr style=\"text-align: right;\">\n",
       "      <th></th>\n",
       "      <th>exp</th>\n",
       "      <th>seconds</th>\n",
       "      <th>age</th>\n",
       "      <th>rush_hour</th>\n",
       "      <th>17</th>\n",
       "      <th>38</th>\n",
       "      <th>41</th>\n",
       "      <th>49</th>\n",
       "      <th>52</th>\n",
       "      <th>55</th>\n",
       "      <th>...</th>\n",
       "      <th>14</th>\n",
       "      <th>15</th>\n",
       "      <th>16</th>\n",
       "      <th>17</th>\n",
       "      <th>18</th>\n",
       "      <th>19</th>\n",
       "      <th>20</th>\n",
       "      <th>21</th>\n",
       "      <th>22</th>\n",
       "      <th>23</th>\n",
       "    </tr>\n",
       "  </thead>\n",
       "  <tbody>\n",
       "    <tr>\n",
       "      <th>0</th>\n",
       "      <td>12</td>\n",
       "      <td>2880</td>\n",
       "      <td>26</td>\n",
       "      <td>1</td>\n",
       "      <td>0</td>\n",
       "      <td>0</td>\n",
       "      <td>0</td>\n",
       "      <td>0</td>\n",
       "      <td>0</td>\n",
       "      <td>0</td>\n",
       "      <td>...</td>\n",
       "      <td>0</td>\n",
       "      <td>0</td>\n",
       "      <td>1</td>\n",
       "      <td>0</td>\n",
       "      <td>0</td>\n",
       "      <td>0</td>\n",
       "      <td>0</td>\n",
       "      <td>0</td>\n",
       "      <td>0</td>\n",
       "      <td>0</td>\n",
       "    </tr>\n",
       "    <tr>\n",
       "      <th>1</th>\n",
       "      <td>12</td>\n",
       "      <td>3180</td>\n",
       "      <td>26</td>\n",
       "      <td>1</td>\n",
       "      <td>0</td>\n",
       "      <td>0</td>\n",
       "      <td>0</td>\n",
       "      <td>0</td>\n",
       "      <td>0</td>\n",
       "      <td>0</td>\n",
       "      <td>...</td>\n",
       "      <td>0</td>\n",
       "      <td>0</td>\n",
       "      <td>1</td>\n",
       "      <td>0</td>\n",
       "      <td>0</td>\n",
       "      <td>0</td>\n",
       "      <td>0</td>\n",
       "      <td>0</td>\n",
       "      <td>0</td>\n",
       "      <td>0</td>\n",
       "    </tr>\n",
       "    <tr>\n",
       "      <th>2</th>\n",
       "      <td>13</td>\n",
       "      <td>3000</td>\n",
       "      <td>26</td>\n",
       "      <td>1</td>\n",
       "      <td>0</td>\n",
       "      <td>0</td>\n",
       "      <td>0</td>\n",
       "      <td>0</td>\n",
       "      <td>0</td>\n",
       "      <td>0</td>\n",
       "      <td>...</td>\n",
       "      <td>0</td>\n",
       "      <td>0</td>\n",
       "      <td>0</td>\n",
       "      <td>0</td>\n",
       "      <td>1</td>\n",
       "      <td>0</td>\n",
       "      <td>0</td>\n",
       "      <td>0</td>\n",
       "      <td>0</td>\n",
       "      <td>0</td>\n",
       "    </tr>\n",
       "  </tbody>\n",
       "</table>\n",
       "<p>3 rows × 309 columns</p>\n",
       "</div>"
      ],
      "text/plain": [
       "   exp  seconds  age  rush_hour  17  38  41  49  52  55 ...  14  15  16  17  \\\n",
       "0   12     2880   26          1   0   0   0   0   0   0 ...   0   0   1   0   \n",
       "1   12     3180   26          1   0   0   0   0   0   0 ...   0   0   1   0   \n",
       "2   13     3000   26          1   0   0   0   0   0   0 ...   0   0   0   0   \n",
       "\n",
       "   18  19  20  21  22  23  \n",
       "0   0   0   0   0   0   0  \n",
       "1   0   0   0   0   0   0  \n",
       "2   1   0   0   0   0   0  \n",
       "\n",
       "[3 rows x 309 columns]"
      ]
     },
     "execution_count": 22,
     "metadata": {},
     "output_type": "execute_result"
    }
   ],
   "source": [
    "# create dummy variable\n",
    "traindf_shopper = pd.get_dummies(traindf_use['shopper_id'])\n",
    "traindf_weekday = pd.get_dummies(traindf_use['weekday'])\n",
    "traindf_starthour = pd.get_dummies(traindf_use['start_hour'])\n",
    "\n",
    "traindf_dummy = pd.concat([traindf_use,traindf_shopper,traindf_weekday,traindf_starthour], axis= 1)\n",
    "traindf_dummy.drop(['shopper_id','weekday','start_hour','minutes'], axis = 1, inplace = True)\n",
    "traindf_dummy.head(3)"
   ]
  },
  {
   "cell_type": "code",
   "execution_count": 23,
   "metadata": {
    "collapsed": false
   },
   "outputs": [],
   "source": [
    "# normalize features\n",
    "from sklearn import preprocessing\n",
    "\n",
    "colnames = traindf_dummy.columns\n",
    "x = traindf_dummy.values\n",
    "min_max_scaler = preprocessing.MinMaxScaler()\n",
    "x_scaled = min_max_scaler.fit_transform(x)\n",
    "df = pd.DataFrame(x_scaled)\n",
    "df.columns = colnames\n",
    "df['seconds'] = traindf_dummy['seconds']"
   ]
  },
  {
   "cell_type": "code",
   "execution_count": 24,
   "metadata": {
    "collapsed": false
   },
   "outputs": [
    {
     "data": {
      "text/html": [
       "<div>\n",
       "<table border=\"1\" class=\"dataframe\">\n",
       "  <thead>\n",
       "    <tr style=\"text-align: right;\">\n",
       "      <th></th>\n",
       "      <th>exp</th>\n",
       "      <th>seconds</th>\n",
       "      <th>age</th>\n",
       "      <th>rush_hour</th>\n",
       "      <th>17</th>\n",
       "      <th>38</th>\n",
       "      <th>41</th>\n",
       "      <th>49</th>\n",
       "      <th>52</th>\n",
       "      <th>55</th>\n",
       "      <th>...</th>\n",
       "      <th>14</th>\n",
       "      <th>15</th>\n",
       "      <th>16</th>\n",
       "      <th>17</th>\n",
       "      <th>18</th>\n",
       "      <th>19</th>\n",
       "      <th>20</th>\n",
       "      <th>21</th>\n",
       "      <th>22</th>\n",
       "      <th>23</th>\n",
       "    </tr>\n",
       "  </thead>\n",
       "  <tbody>\n",
       "    <tr>\n",
       "      <th>0</th>\n",
       "      <td>0.326772</td>\n",
       "      <td>2880</td>\n",
       "      <td>0.188406</td>\n",
       "      <td>0</td>\n",
       "      <td>0</td>\n",
       "      <td>0</td>\n",
       "      <td>0</td>\n",
       "      <td>0</td>\n",
       "      <td>0</td>\n",
       "      <td>0</td>\n",
       "      <td>...</td>\n",
       "      <td>0</td>\n",
       "      <td>0</td>\n",
       "      <td>1</td>\n",
       "      <td>0</td>\n",
       "      <td>0</td>\n",
       "      <td>0</td>\n",
       "      <td>0</td>\n",
       "      <td>0</td>\n",
       "      <td>0</td>\n",
       "      <td>0</td>\n",
       "    </tr>\n",
       "    <tr>\n",
       "      <th>1</th>\n",
       "      <td>0.326772</td>\n",
       "      <td>3180</td>\n",
       "      <td>0.188406</td>\n",
       "      <td>0</td>\n",
       "      <td>0</td>\n",
       "      <td>0</td>\n",
       "      <td>0</td>\n",
       "      <td>0</td>\n",
       "      <td>0</td>\n",
       "      <td>0</td>\n",
       "      <td>...</td>\n",
       "      <td>0</td>\n",
       "      <td>0</td>\n",
       "      <td>1</td>\n",
       "      <td>0</td>\n",
       "      <td>0</td>\n",
       "      <td>0</td>\n",
       "      <td>0</td>\n",
       "      <td>0</td>\n",
       "      <td>0</td>\n",
       "      <td>0</td>\n",
       "    </tr>\n",
       "    <tr>\n",
       "      <th>2</th>\n",
       "      <td>0.328084</td>\n",
       "      <td>3000</td>\n",
       "      <td>0.188406</td>\n",
       "      <td>0</td>\n",
       "      <td>0</td>\n",
       "      <td>0</td>\n",
       "      <td>0</td>\n",
       "      <td>0</td>\n",
       "      <td>0</td>\n",
       "      <td>0</td>\n",
       "      <td>...</td>\n",
       "      <td>0</td>\n",
       "      <td>0</td>\n",
       "      <td>0</td>\n",
       "      <td>0</td>\n",
       "      <td>1</td>\n",
       "      <td>0</td>\n",
       "      <td>0</td>\n",
       "      <td>0</td>\n",
       "      <td>0</td>\n",
       "      <td>0</td>\n",
       "    </tr>\n",
       "  </tbody>\n",
       "</table>\n",
       "<p>3 rows × 309 columns</p>\n",
       "</div>"
      ],
      "text/plain": [
       "        exp  seconds       age  rush_hour  17  38  41  49  52  55 ...  14  15  \\\n",
       "0  0.326772     2880  0.188406          0   0   0   0   0   0   0 ...   0   0   \n",
       "1  0.326772     3180  0.188406          0   0   0   0   0   0   0 ...   0   0   \n",
       "2  0.328084     3000  0.188406          0   0   0   0   0   0   0 ...   0   0   \n",
       "\n",
       "   16  17  18  19  20  21  22  23  \n",
       "0   1   0   0   0   0   0   0   0  \n",
       "1   1   0   0   0   0   0   0   0  \n",
       "2   0   0   1   0   0   0   0   0  \n",
       "\n",
       "[3 rows x 309 columns]"
      ]
     },
     "execution_count": 24,
     "metadata": {},
     "output_type": "execute_result"
    }
   ],
   "source": [
    "df.head(3)\n"
   ]
  },
  {
   "cell_type": "markdown",
   "metadata": {},
   "source": [
    "### Split training and testing"
   ]
  },
  {
   "cell_type": "code",
   "execution_count": 25,
   "metadata": {
    "collapsed": true
   },
   "outputs": [],
   "source": [
    "from sklearn.cross_validation import train_test_split\n",
    "Xs = df.drop(['seconds'], axis = 1)\n",
    "y = df['seconds']\n",
    "X_train, X_test, y_train, y_test = train_test_split(Xs,y, test_size = 0.2, random_state = 9)"
   ]
  },
  {
   "cell_type": "code",
   "execution_count": 26,
   "metadata": {
    "collapsed": false
   },
   "outputs": [
    {
     "data": {
      "text/html": [
       "<div>\n",
       "<table border=\"1\" class=\"dataframe\">\n",
       "  <thead>\n",
       "    <tr style=\"text-align: right;\">\n",
       "      <th></th>\n",
       "      <th>exp</th>\n",
       "      <th>age</th>\n",
       "      <th>rush_hour</th>\n",
       "      <th>17</th>\n",
       "      <th>38</th>\n",
       "      <th>41</th>\n",
       "      <th>49</th>\n",
       "      <th>52</th>\n",
       "      <th>55</th>\n",
       "      <th>59</th>\n",
       "      <th>...</th>\n",
       "      <th>14</th>\n",
       "      <th>15</th>\n",
       "      <th>16</th>\n",
       "      <th>17</th>\n",
       "      <th>18</th>\n",
       "      <th>19</th>\n",
       "      <th>20</th>\n",
       "      <th>21</th>\n",
       "      <th>22</th>\n",
       "      <th>23</th>\n",
       "    </tr>\n",
       "  </thead>\n",
       "  <tbody>\n",
       "    <tr>\n",
       "      <th>8638</th>\n",
       "      <td>0.725722</td>\n",
       "      <td>0.239130</td>\n",
       "      <td>0</td>\n",
       "      <td>0</td>\n",
       "      <td>0</td>\n",
       "      <td>0</td>\n",
       "      <td>0</td>\n",
       "      <td>0</td>\n",
       "      <td>0</td>\n",
       "      <td>0</td>\n",
       "      <td>...</td>\n",
       "      <td>0</td>\n",
       "      <td>0</td>\n",
       "      <td>1</td>\n",
       "      <td>0</td>\n",
       "      <td>0</td>\n",
       "      <td>0</td>\n",
       "      <td>0</td>\n",
       "      <td>0</td>\n",
       "      <td>0</td>\n",
       "      <td>0</td>\n",
       "    </tr>\n",
       "    <tr>\n",
       "      <th>2981</th>\n",
       "      <td>0.460630</td>\n",
       "      <td>0.289855</td>\n",
       "      <td>0</td>\n",
       "      <td>0</td>\n",
       "      <td>0</td>\n",
       "      <td>0</td>\n",
       "      <td>0</td>\n",
       "      <td>0</td>\n",
       "      <td>0</td>\n",
       "      <td>0</td>\n",
       "      <td>...</td>\n",
       "      <td>0</td>\n",
       "      <td>0</td>\n",
       "      <td>0</td>\n",
       "      <td>0</td>\n",
       "      <td>1</td>\n",
       "      <td>0</td>\n",
       "      <td>0</td>\n",
       "      <td>0</td>\n",
       "      <td>0</td>\n",
       "      <td>0</td>\n",
       "    </tr>\n",
       "    <tr>\n",
       "      <th>14613</th>\n",
       "      <td>0.448819</td>\n",
       "      <td>0.253623</td>\n",
       "      <td>0</td>\n",
       "      <td>0</td>\n",
       "      <td>0</td>\n",
       "      <td>0</td>\n",
       "      <td>0</td>\n",
       "      <td>0</td>\n",
       "      <td>0</td>\n",
       "      <td>0</td>\n",
       "      <td>...</td>\n",
       "      <td>0</td>\n",
       "      <td>0</td>\n",
       "      <td>0</td>\n",
       "      <td>0</td>\n",
       "      <td>0</td>\n",
       "      <td>0</td>\n",
       "      <td>0</td>\n",
       "      <td>0</td>\n",
       "      <td>0</td>\n",
       "      <td>0</td>\n",
       "    </tr>\n",
       "  </tbody>\n",
       "</table>\n",
       "<p>3 rows × 308 columns</p>\n",
       "</div>"
      ],
      "text/plain": [
       "            exp       age  rush_hour  17  38  41  49  52  55  59 ...  14  15  \\\n",
       "8638   0.725722  0.239130          0   0   0   0   0   0   0   0 ...   0   0   \n",
       "2981   0.460630  0.289855          0   0   0   0   0   0   0   0 ...   0   0   \n",
       "14613  0.448819  0.253623          0   0   0   0   0   0   0   0 ...   0   0   \n",
       "\n",
       "       16  17  18  19  20  21  22  23  \n",
       "8638    1   0   0   0   0   0   0   0  \n",
       "2981    0   0   1   0   0   0   0   0  \n",
       "14613   0   0   0   0   0   0   0   0  \n",
       "\n",
       "[3 rows x 308 columns]"
      ]
     },
     "execution_count": 26,
     "metadata": {},
     "output_type": "execute_result"
    }
   ],
   "source": [
    "X_train.head(3)"
   ]
  },
  {
   "cell_type": "code",
   "execution_count": 27,
   "metadata": {
    "collapsed": false
   },
   "outputs": [
    {
     "data": {
      "text/plain": [
       "8638      660\n",
       "2981     4560\n",
       "14613     420\n",
       "Name: seconds, dtype: float64"
      ]
     },
     "execution_count": 27,
     "metadata": {},
     "output_type": "execute_result"
    }
   ],
   "source": [
    "y_train.head(3)"
   ]
  },
  {
   "cell_type": "markdown",
   "metadata": {},
   "source": [
    "### Prediction"
   ]
  },
  {
   "cell_type": "code",
   "execution_count": 41,
   "metadata": {
    "collapsed": false
   },
   "outputs": [
    {
     "name": "stdout",
     "output_type": "stream",
     "text": [
      "Residual sum of squares: 41491347815309122559025348608\n",
      "Variance score: -27934096000584289091584.00\n"
     ]
    }
   ],
   "source": [
    "# Create linear regression object\n",
    "from sklearn import linear_model\n",
    "\n",
    "regr = linear_model.LinearRegression()\n",
    "\n",
    "# Train the model using the training sets\n",
    "regr.fit(X_train, y_train)\n",
    "\n",
    "# The coefficients\n",
    "# print('Coefficients: \\n', regr.coef_)\n",
    "# The mean square error\n",
    "print(\"Residual sum of squares: %2.f\"\n",
    "     %  np.mean((regr.predict(X_test) - y_test) ** 2))\n",
    "# Explained variance score: 1 is perfect prediction\n",
    "print('Variance score: %.2f' % regr.score(X_test, y_test))\n",
    "\n",
    "# Plot outputs\n",
    "# plt.scatter(X_test, y_test,  color='black')\n",
    "#plt.plot(X_test, regr.predict(X_test), color='blue','.')\n",
    "\n",
    "#plt.xticks(())\n",
    "#plt.yticks(())\n",
    "\n",
    "#plt.show()"
   ]
  },
  {
   "cell_type": "code",
   "execution_count": 37,
   "metadata": {
    "collapsed": false
   },
   "outputs": [
    {
     "name": "stdout",
     "output_type": "stream",
     "text": [
      "Residual sum of squares: 1133984\n",
      "Variance score: -27934096000584289091584.00\n"
     ]
    }
   ],
   "source": [
    "# Ridge linear regrssion\n",
    "clf = linear_model.Ridge (alpha = 5.0)\n",
    "clf.fit(X_train, y_train)\n",
    "\n",
    "# The coefficients\n",
    "# print('Coefficients: \\n', regr.coef_)\n",
    "# The mean square error\n",
    "print(\"Residual sum of squares: %2.f\"\n",
    "     %  np.mean((clf.predict(X_test) - y_test) ** 2))\n",
    "# Explained variance score: 1 is perfect prediction\n",
    "print('Variance score: %.2f' % regr.score(X_test, y_test))\n"
   ]
  },
  {
   "cell_type": "code",
   "execution_count": 34,
   "metadata": {
    "collapsed": false
   },
   "outputs": [
    {
     "data": {
      "text/plain": [
       "1.0"
      ]
     },
     "execution_count": 34,
     "metadata": {},
     "output_type": "execute_result"
    }
   ],
   "source": [
    "# Ridge Complexity\n",
    "clf = linear_model.RidgeCV (alphas = [0.1, 1.0, 10.0])\n",
    "clf.fit(X_train, y_train)\n",
    "\n",
    "clf.alpha_"
   ]
  },
  {
   "cell_type": "code",
   "execution_count": 39,
   "metadata": {
    "collapsed": false
   },
   "outputs": [
    {
     "name": "stdout",
     "output_type": "stream",
     "text": [
      "Residual sum of squares: 1137568\n",
      "Variance score: -27934096000584289091584.00\n"
     ]
    }
   ],
   "source": [
    "# lASSO linear regrssion\n",
    "clf = linear_model.Lasso (alpha = 0.5)\n",
    "clf.fit(X_train, y_train)\n",
    "\n",
    "# The coefficients\n",
    "# print('Coefficients: \\n', regr.coef_)\n",
    "# The mean square error\n",
    "print(\"Residual sum of squares: %2.f\"\n",
    "     %  np.mean((clf.predict(X_test) - y_test) ** 2))\n",
    "# Explained variance score: 1 is perfect prediction\n",
    "print('Variance score: %.2f' % regr.score(X_test, y_test))"
   ]
  }
 ],
 "metadata": {
  "kernelspec": {
   "display_name": "Python 2",
   "language": "python",
   "name": "python2"
  },
  "language_info": {
   "codemirror_mode": {
    "name": "ipython",
    "version": 2
   },
   "file_extension": ".py",
   "mimetype": "text/x-python",
   "name": "python",
   "nbconvert_exporter": "python",
   "pygments_lexer": "ipython2",
   "version": "2.7.11"
  }
 },
 "nbformat": 4,
 "nbformat_minor": 0
}
